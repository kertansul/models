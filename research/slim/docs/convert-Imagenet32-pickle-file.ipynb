{
 "cells": [
  {
   "cell_type": "code",
   "execution_count": 1,
   "metadata": {
    "collapsed": true,
    "deletable": true,
    "editable": true
   },
   "outputs": [],
   "source": [
    "import pickle\n",
    "import os\n",
    "\n",
    "_DATA_DIR = '/volSSD/training_data/imagenet32/'"
   ]
  },
  {
   "cell_type": "code",
   "execution_count": 2,
   "metadata": {
    "collapsed": false,
    "deletable": true,
    "editable": true
   },
   "outputs": [
    {
     "name": "stdout",
     "output_type": "stream",
     "text": [
      "Train 1 finished\n",
      "Train 2 finished\n",
      "Train 3 finished\n",
      "Train 4 finished\n",
      "Train 5 finished\n",
      "Train 6 finished\n",
      "Train 7 finished\n",
      "Train 8 finished\n",
      "Train 9 finished\n",
      "Train 10 finished\n",
      "Total 1281167 finished\n"
     ]
    }
   ],
   "source": [
    "### Train Data\n",
    "\n",
    "total_img = 0\n",
    "\n",
    "for i in range(10):\n",
    "    filename_in = os.path.join( _DATA_DIR, 'train_data_batch_{}'.format(i+1) )\n",
    "    filename_out = os.path.join( _DATA_DIR, 'train_data_batch_{}_py2'.format(i+1) )\n",
    "    \n",
    "    with open(filename_in, \"rb\") as f:\n",
    "        w = pickle.load(f)\n",
    "    \n",
    "    total_img = total_img + len(w['labels'])\n",
    "    \n",
    "    # dict part-a\n",
    "    m = {}\n",
    "    m['labels'] = w['labels']\n",
    "    m['data'] = w['data']\n",
    "    m['mean'] = w['mean']\n",
    "    pickle.dump(m, open(filename_out,\"wb\"), protocol=2)\n",
    "    \n",
    "    print( 'Train {} finished'.format(i+1) )\n",
    "\n",
    "print( 'Total {} finished'.format(total_img) )"
   ]
  },
  {
   "cell_type": "code",
   "execution_count": 3,
   "metadata": {
    "collapsed": false,
    "deletable": true,
    "editable": true
   },
   "outputs": [
    {
     "name": "stdout",
     "output_type": "stream",
     "text": [
      "Val finished\n",
      "Total 50000 finished\n"
     ]
    }
   ],
   "source": [
    "### Val Data\n",
    "filename_in = os.path.join( _DATA_DIR, 'val_data' )\n",
    "filename_out = os.path.join( _DATA_DIR, 'val_data_py2' )\n",
    "\n",
    "with open(filename_in, \"rb\") as f:\n",
    "    w = pickle.load(f)\n",
    "pickle.dump(w, open(filename_out,\"wb\"), protocol=2)\n",
    "\n",
    "print( 'Val finished' )\n",
    "print( 'Total {} finished'.format(len(w['labels'])) )"
   ]
  },
  {
   "cell_type": "code",
   "execution_count": null,
   "metadata": {
    "collapsed": true,
    "deletable": true,
    "editable": true
   },
   "outputs": [],
   "source": []
  }
 ],
 "metadata": {
  "kernelspec": {
   "display_name": "Python 3",
   "language": "python",
   "name": "python3"
  },
  "language_info": {
   "codemirror_mode": {
    "name": "ipython",
    "version": 3
   },
   "file_extension": ".py",
   "mimetype": "text/x-python",
   "name": "python",
   "nbconvert_exporter": "python",
   "pygments_lexer": "ipython3",
   "version": "3.4.3"
  }
 },
 "nbformat": 4,
 "nbformat_minor": 2
}
