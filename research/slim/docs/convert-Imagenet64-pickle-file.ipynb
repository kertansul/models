{
 "cells": [
  {
   "cell_type": "code",
   "execution_count": 1,
   "metadata": {},
   "outputs": [],
   "source": [
    "import pickle\n",
    "import os\n",
    "\n",
    "_DATA_DIR = '/volSSD/training_data/imagenet64/'"
   ]
  },
  {
   "cell_type": "code",
   "execution_count": 2,
   "metadata": {},
   "outputs": [
    {
     "name": "stdout",
     "output_type": "stream",
     "text": [
      "Train 1 finished\n",
      "Train 2 finished\n",
      "Train 3 finished\n",
      "Train 4 finished\n",
      "Train 5 finished\n",
      "Train 6 finished\n",
      "Train 7 finished\n",
      "Train 8 finished\n",
      "Train 9 finished\n",
      "Train 10 finished\n",
      "Total 1281167 finished\n"
     ]
    }
   ],
   "source": [
    "### Train Data\n",
    "\n",
    "total_img = 0\n",
    "\n",
    "for i in range(10):\n",
    "    filename_in = os.path.join( _DATA_DIR, 'train_data_batch_{}'.format(i+1) )\n",
    "    filename_out_a = os.path.join( _DATA_DIR, 'train_data_batch_{}_py2_0idx'.format(i*2+1) )\n",
    "    filename_out_b = os.path.join( _DATA_DIR, 'train_data_batch_{}_py2_0idx'.format(i*2+2) )\n",
    "    \n",
    "    with open(filename_in, \"rb\") as f:\n",
    "        w = pickle.load(f)\n",
    "    \n",
    "    total_img = total_img + len(w['labels'])\n",
    "    \n",
    "    # dict part-a\n",
    "    m = {}\n",
    "    chunk_sz = int( len(w['labels'])/2 )\n",
    "    m['data'] = w['data'][:chunk_sz]\n",
    "    m['mean'] = w['mean']\n",
    "    # convert 1-indexed label data to 0-indexed label data\n",
    "    m['labels'] = []\n",
    "    for ll in w['labels'][:chunk_sz]:\n",
    "        m['labels'].append( ll-1 )\n",
    "    pickle.dump(m, open(filename_out_a,\"wb\"), protocol=2)\n",
    "    \n",
    "    # dict part-b\n",
    "    m = {}\n",
    "    chunk_sz = int( len(w['labels'])/2 )\n",
    "    m['data'] = w['data'][-chunk_sz:]\n",
    "    m['mean'] = w['mean']\n",
    "    # convert 1-indexed label data to 0-indexed label data\n",
    "    m['labels'] = []\n",
    "    for ll in w['labels'][-chunk_sz:]:\n",
    "        m['labels'].append( ll-1 )\n",
    "    pickle.dump(m, open(filename_out_b,\"wb\"), protocol=2)\n",
    "    \n",
    "    print( 'Train {} finished'.format(i+1) )\n",
    "\n",
    "print( 'Total {} finished'.format(total_img) )"
   ]
  },
  {
   "cell_type": "code",
   "execution_count": 4,
   "metadata": {},
   "outputs": [
    {
     "name": "stdout",
     "output_type": "stream",
     "text": [
      "Val finished\n",
      "Total 50000 finished\n"
     ]
    }
   ],
   "source": [
    "### Val Data\n",
    "filename_in = os.path.join( _DATA_DIR, 'val_data' )\n",
    "filename_out = os.path.join( _DATA_DIR, 'val_data_py2_0idx' )\n",
    "\n",
    "with open(filename_in, \"rb\") as f:\n",
    "    w = pickle.load(f)\n",
    "\n",
    "m = {}\n",
    "m['data'] = w['data']\n",
    "# convert 1-indexed label data to 0-indexed label data\n",
    "m['labels'] = []\n",
    "for ll in w['labels']:\n",
    "    m['labels'].append( ll-1 )\n",
    "    \n",
    "pickle.dump(m, open(filename_out,\"wb\"), protocol=2)\n",
    "\n",
    "print( 'Val finished' )\n",
    "print( 'Total {} finished'.format(len(w['labels'])) )"
   ]
  },
  {
   "cell_type": "code",
   "execution_count": null,
   "metadata": {},
   "outputs": [],
   "source": []
  }
 ],
 "metadata": {
  "kernelspec": {
   "display_name": "Python 3",
   "language": "python",
   "name": "python3"
  },
  "language_info": {
   "codemirror_mode": {
    "name": "ipython",
    "version": 3
   },
   "file_extension": ".py",
   "mimetype": "text/x-python",
   "name": "python",
   "nbconvert_exporter": "python",
   "pygments_lexer": "ipython3",
   "version": "3.4.3"
  }
 },
 "nbformat": 4,
 "nbformat_minor": 2
}
